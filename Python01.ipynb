{
 "cells": [
  {
   "cell_type": "code",
   "execution_count": 4,
   "id": "d25464a4",
   "metadata": {},
   "outputs": [],
   "source": [
    "str1 = \"按犯最重本刑為5年以下有期徒刑以下之刑之罪，而受6月以下有期徒刑或拘役之宣告者，得以新臺幣1,000元、2,000元或3,000元折算1日，易科罰金\""
   ]
  },
  {
   "cell_type": "code",
   "execution_count": 5,
   "id": "b74e0920",
   "metadata": {},
   "outputs": [
    {
     "data": {
      "text/plain": [
       "'按犯最重本刑為5年以下有期徒刑以下之刑之罪，而受6月以下有期徒刑或拘役之宣告者，得以新臺幣1,000元、2,000元或3,000元折算1日，易科罰金'"
      ]
     },
     "execution_count": 5,
     "metadata": {},
     "output_type": "execute_result"
    }
   ],
   "source": [
    "str1"
   ]
  },
  {
   "cell_type": "code",
   "execution_count": 6,
   "id": "5fb70d31",
   "metadata": {},
   "outputs": [
    {
     "name": "stdout",
     "output_type": "stream",
     "text": [
      "按犯最重本刑為5年以下有期徒刑以下之刑之罪，而受6月以下有期徒刑或拘役之宣告者，得以新臺幣1,000元、2,000元或3,000元折算1日，易科罰金\n"
     ]
    }
   ],
   "source": [
    "print(str1)"
   ]
  },
  {
   "cell_type": "code",
   "execution_count": 18,
   "id": "74deeeef",
   "metadata": {},
   "outputs": [],
   "source": [
    "money1=1000\n",
    "money2=2000\n",
    "money3=3000"
   ]
  },
  {
   "cell_type": "code",
   "execution_count": 19,
   "id": "dc7963b3",
   "metadata": {},
   "outputs": [
    {
     "data": {
      "text/plain": [
       "1000"
      ]
     },
     "execution_count": 19,
     "metadata": {},
     "output_type": "execute_result"
    }
   ],
   "source": [
    "money1"
   ]
  },
  {
   "cell_type": "code",
   "execution_count": 21,
   "id": "55ce8b2a",
   "metadata": {},
   "outputs": [
    {
     "name": "stdout",
     "output_type": "stream",
     "text": [
      "總罰金為 2000 元\n"
     ]
    }
   ],
   "source": [
    "print(\"總罰金為\",money2,\"元\")"
   ]
  },
  {
   "cell_type": "code",
   "execution_count": null,
   "id": "2c4c3e62",
   "metadata": {},
   "outputs": [],
   "source": []
  }
 ],
 "metadata": {
  "kernelspec": {
   "display_name": "Python 3 (ipykernel)",
   "language": "python",
   "name": "python3"
  },
  "language_info": {
   "codemirror_mode": {
    "name": "ipython",
    "version": 3
   },
   "file_extension": ".py",
   "mimetype": "text/x-python",
   "name": "python",
   "nbconvert_exporter": "python",
   "pygments_lexer": "ipython3",
   "version": "3.9.12"
  }
 },
 "nbformat": 4,
 "nbformat_minor": 5
}
