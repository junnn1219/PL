{
 "cells": [
  {
   "cell_type": "code",
   "execution_count": 1,
   "id": "2a78597c",
   "metadata": {},
   "outputs": [],
   "source": [
    "# 將資料存成json檔並放入dict中\n",
    "import json"
   ]
  },
  {
   "cell_type": "code",
   "execution_count": 5,
   "id": "cc42b5b1",
   "metadata": {},
   "outputs": [
    {
     "data": {
      "text/plain": [
       "dict"
      ]
     },
     "execution_count": 5,
     "metadata": {},
     "output_type": "execute_result"
    }
   ],
   "source": [
    "test = open('phone.json',encoding=\"utf8\")\n",
    "Data = json.load(test)\n",
    "type(Data)\n",
    "\n"
   ]
  },
  {
   "cell_type": "code",
   "execution_count": 6,
   "id": "f61296f6",
   "metadata": {},
   "outputs": [
    {
     "data": {
      "text/plain": [
       "dict_items([('手機', [{'種類': 'i6', '基礎容量': 16, '尺寸': 4.7, '顏色種類': 3}, {'種類': 'i6plus', '基礎容量': 16, '尺寸': 5.5, '顏色種類': 3}, {'種類': 'i6s', '基礎容量': 16, '尺寸': 4.7, '顏色種類': 4}, {'種類': 'i6splus', '基礎容量': 16, '尺寸': 5.5, '顏色種類': 4}, {'種類': 'i7', '基礎容量': 32, '尺寸': 4.7, '顏色種類': 6}, {'種類': 'i7plus', '基礎容量': 32, '尺寸': 5.5, '顏色種類': 6}, {'種類': 'i8', '基礎容量': 64, '尺寸': 4.7, '顏色種類': 3}, {'種類': 'i8plus', '基礎容量': 64, '尺寸': 5.5, '顏色種類': 3}, {'種類': 'ix', '基礎容量': 64, '尺寸': 5.8, '顏色種類': 2}, {'種類': 'ixr', '基礎容量': 64, '尺寸': 6.1, '顏色種類': 6}, {'種類': 'ixs', '基礎容量': 64, '尺寸': 5.8, '顏色種類': 3}, {'種類': 'ixsmax', '基礎容量': 64, '尺寸': 6.5, '顏色種類': 3}, {'種類': 'i11', '基礎容量': 64, '尺寸': 6.1, '顏色種類': 6}, {'種類': 'i11pro', '基礎容量': 64, '尺寸': 6.1, '顏色種類': 4}, {'種類': 'i11promax', '基礎容量': 64, '尺寸': 6.7, '顏色種類': 4}, {'種類': 'i12mini', '基礎容量': 128, '尺寸': 5.4, '顏色種類': 6}, {'種類': 'i12', '基礎容量': 128, '尺寸': 6.1, '顏色種類': 6}, {'種類': 'i12pro', '基礎容量': 128, '尺寸': 6.1, '顏色種類': 4}, {'種類': 'i12promax', '基礎容量': 128, '尺寸': 6.7, '顏色種類': 4}, {'種類': 'i13mini', '基礎容量': 128, '尺寸': 5.4, '顏色種類': 6}, {'種類': 'i13', '基礎容量': 128, '尺寸': 6.1, '顏色種類': 6}, {'種類': 'i13pro', '基礎容量': 128, '尺寸': 6.1, '顏色種類': 5}, {'種類': 'i13promax', '基礎容量': 128, '尺寸': 6.7, '顏色種類': 5}, {'種類': 'i14', '基礎容量': 128, '尺寸': 6.1, '顏色種類': 6}, {'種類': 'i14plus', '基礎容量': 128, '尺寸': 6.7, '顏色種類': 6}, {'種類': 'i14pro', '基礎容量': 128, '尺寸': 6.1, '顏色種類': 4}, {'種類': 'i14promax', '基礎容量': 128, '尺寸': 6.7, '顏色種類': 4}])])"
      ]
     },
     "execution_count": 6,
     "metadata": {},
     "output_type": "execute_result"
    }
   ],
   "source": [
    "Data.items()"
   ]
  },
  {
   "cell_type": "code",
   "execution_count": 9,
   "id": "816d25ed",
   "metadata": {},
   "outputs": [
    {
     "data": {
      "text/plain": [
       "[{'種類': 'i6', '基礎容量': 16, '尺寸': 4.7, '顏色種類': 3},\n",
       " {'種類': 'i6plus', '基礎容量': 16, '尺寸': 5.5, '顏色種類': 3},\n",
       " {'種類': 'i6s', '基礎容量': 16, '尺寸': 4.7, '顏色種類': 4},\n",
       " {'種類': 'i6splus', '基礎容量': 16, '尺寸': 5.5, '顏色種類': 4},\n",
       " {'種類': 'i7', '基礎容量': 32, '尺寸': 4.7, '顏色種類': 6},\n",
       " {'種類': 'i7plus', '基礎容量': 32, '尺寸': 5.5, '顏色種類': 6},\n",
       " {'種類': 'i8', '基礎容量': 64, '尺寸': 4.7, '顏色種類': 3},\n",
       " {'種類': 'i8plus', '基礎容量': 64, '尺寸': 5.5, '顏色種類': 3},\n",
       " {'種類': 'ix', '基礎容量': 64, '尺寸': 5.8, '顏色種類': 2},\n",
       " {'種類': 'ixr', '基礎容量': 64, '尺寸': 6.1, '顏色種類': 6},\n",
       " {'種類': 'ixs', '基礎容量': 64, '尺寸': 5.8, '顏色種類': 3},\n",
       " {'種類': 'ixsmax', '基礎容量': 64, '尺寸': 6.5, '顏色種類': 3},\n",
       " {'種類': 'i11', '基礎容量': 64, '尺寸': 6.1, '顏色種類': 6},\n",
       " {'種類': 'i11pro', '基礎容量': 64, '尺寸': 6.1, '顏色種類': 4},\n",
       " {'種類': 'i11promax', '基礎容量': 64, '尺寸': 6.7, '顏色種類': 4},\n",
       " {'種類': 'i12mini', '基礎容量': 128, '尺寸': 5.4, '顏色種類': 6},\n",
       " {'種類': 'i12', '基礎容量': 128, '尺寸': 6.1, '顏色種類': 6},\n",
       " {'種類': 'i12pro', '基礎容量': 128, '尺寸': 6.1, '顏色種類': 4},\n",
       " {'種類': 'i12promax', '基礎容量': 128, '尺寸': 6.7, '顏色種類': 4},\n",
       " {'種類': 'i13mini', '基礎容量': 128, '尺寸': 5.4, '顏色種類': 6},\n",
       " {'種類': 'i13', '基礎容量': 128, '尺寸': 6.1, '顏色種類': 6},\n",
       " {'種類': 'i13pro', '基礎容量': 128, '尺寸': 6.1, '顏色種類': 5},\n",
       " {'種類': 'i13promax', '基礎容量': 128, '尺寸': 6.7, '顏色種類': 5},\n",
       " {'種類': 'i14', '基礎容量': 128, '尺寸': 6.1, '顏色種類': 6},\n",
       " {'種類': 'i14plus', '基礎容量': 128, '尺寸': 6.7, '顏色種類': 6},\n",
       " {'種類': 'i14pro', '基礎容量': 128, '尺寸': 6.1, '顏色種類': 4},\n",
       " {'種類': 'i14promax', '基礎容量': 128, '尺寸': 6.7, '顏色種類': 4}]"
      ]
     },
     "execution_count": 9,
     "metadata": {},
     "output_type": "execute_result"
    }
   ],
   "source": [
    "temp = Data.get(\"手機\")\n",
    "temp\n",
    "\n"
   ]
  },
  {
   "cell_type": "code",
   "execution_count": 15,
   "id": "fa560759",
   "metadata": {},
   "outputs": [
    {
     "name": "stdout",
     "output_type": "stream",
     "text": [
      "i13 是 128 Ｇ\n"
     ]
    }
   ],
   "source": [
    "#查詢功能\n",
    "#查詢種類\n",
    "ask = \"i13\"\n",
    "for i in temp :\n",
    "    if ask == i.get(\"種類\"):\n",
    "        print(ask,\"是\", i.get(\"基礎容量\"),\"Ｇ\")\n"
   ]
  },
  {
   "cell_type": "code",
   "execution_count": 23,
   "id": "ae2b0467",
   "metadata": {},
   "outputs": [
    {
     "data": {
      "text/plain": [
       "[16,\n",
       " 16,\n",
       " 16,\n",
       " 16,\n",
       " 32,\n",
       " 32,\n",
       " 64,\n",
       " 64,\n",
       " 64,\n",
       " 64,\n",
       " 64,\n",
       " 64,\n",
       " 64,\n",
       " 64,\n",
       " 64,\n",
       " 128,\n",
       " 128,\n",
       " 128,\n",
       " 128,\n",
       " 128,\n",
       " 128,\n",
       " 128,\n",
       " 128,\n",
       " 128,\n",
       " 128,\n",
       " 128,\n",
       " 128]"
      ]
     },
     "execution_count": 23,
     "metadata": {},
     "output_type": "execute_result"
    }
   ],
   "source": [
    "#排序容量\n",
    "\n",
    "capacity = []\n",
    "for i in temp:\n",
    "    capacity.append(i.get(\"基礎容量\"))\n",
    "\n",
    "capacity"
   ]
  },
  {
   "cell_type": "code",
   "execution_count": 20,
   "id": "f2576a68",
   "metadata": {},
   "outputs": [
    {
     "data": {
      "text/plain": [
       "[(16, 128),\n",
       " (17, 128),\n",
       " (18, 128),\n",
       " (19, 128),\n",
       " (20, 128),\n",
       " (21, 128),\n",
       " (22, 128),\n",
       " (23, 128),\n",
       " (24, 128),\n",
       " (25, 128),\n",
       " (26, 128),\n",
       " (27, 128),\n",
       " (7, 64),\n",
       " (8, 64),\n",
       " (9, 64),\n",
       " (10, 64),\n",
       " (11, 64),\n",
       " (12, 64),\n",
       " (13, 64),\n",
       " (14, 64),\n",
       " (15, 64),\n",
       " (5, 32),\n",
       " (6, 32),\n",
       " (1, 16),\n",
       " (2, 16),\n",
       " (3, 16),\n",
       " (4, 16)]"
      ]
     },
     "execution_count": 20,
     "metadata": {},
     "output_type": "execute_result"
    }
   ],
   "source": [
    "\n",
    "\n",
    "capacity_enumerate = enumerate(capacity, start = 1)\n",
    "\n",
    "\n",
    "capacity_enumerate_sorted = sorted(capacity_enumerate, key = lambda s: s[1], reverse = True)\n",
    "\n",
    "capacity_enumerate_sorted"
   ]
  },
  {
   "cell_type": "code",
   "execution_count": 24,
   "id": "f93b6e8c",
   "metadata": {},
   "outputs": [
    {
     "data": {
      "text/plain": [
       "16"
      ]
     },
     "execution_count": 24,
     "metadata": {},
     "output_type": "execute_result"
    }
   ],
   "source": [
    "#第一個\n",
    "capacity_enumerate_sorted[0][0]"
   ]
  },
  {
   "cell_type": "code",
   "execution_count": 27,
   "id": "902df359",
   "metadata": {},
   "outputs": [
    {
     "name": "stdout",
     "output_type": "stream",
     "text": [
      "i12mini 是 5.4 寸\n",
      "i12 是 6.1 寸\n",
      "i12pro 是 6.1 寸\n",
      "i12promax 是 6.7 寸\n",
      "i13mini 是 5.4 寸\n",
      "i13 是 6.1 寸\n",
      "i13pro 是 6.1 寸\n",
      "i13promax 是 6.7 寸\n",
      "i14 是 6.1 寸\n",
      "i14plus 是 6.7 寸\n",
      "i14pro 是 6.1 寸\n",
      "i14promax 是 6.7 寸\n",
      "i8 是 4.7 寸\n",
      "i8plus 是 5.5 寸\n",
      "ix 是 5.8 寸\n",
      "ixr 是 6.1 寸\n",
      "ixs 是 5.8 寸\n",
      "ixsmax 是 6.5 寸\n",
      "i11 是 6.1 寸\n",
      "i11pro 是 6.1 寸\n",
      "i11promax 是 6.7 寸\n",
      "i7 是 4.7 寸\n",
      "i7plus 是 5.5 寸\n",
      "i6 是 4.7 寸\n",
      "i6plus 是 5.5 寸\n",
      "i6s 是 4.7 寸\n",
      "i6splus 是 5.5 寸\n"
     ]
    }
   ],
   "source": [
    "#印出按照容量排序過後的種類與尺寸\n",
    "for i in capacity_enumerate_sorted:\n",
    "    j = i[0] -1\n",
    "    print(temp[j].get(\"種類\"),\"是\",temp[j].get(\"尺寸\"),\"寸\")\n"
   ]
  },
  {
   "cell_type": "code",
   "execution_count": null,
   "id": "bf18c0de",
   "metadata": {},
   "outputs": [],
   "source": []
  }
 ],
 "metadata": {
  "kernelspec": {
   "display_name": "Python 3 (ipykernel)",
   "language": "python",
   "name": "python3"
  },
  "language_info": {
   "codemirror_mode": {
    "name": "ipython",
    "version": 3
   },
   "file_extension": ".py",
   "mimetype": "text/x-python",
   "name": "python",
   "nbconvert_exporter": "python",
   "pygments_lexer": "ipython3",
   "version": "3.9.12"
  }
 },
 "nbformat": 4,
 "nbformat_minor": 5
}
